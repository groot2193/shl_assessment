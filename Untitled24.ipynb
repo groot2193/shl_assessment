{
  "nbformat": 4,
  "nbformat_minor": 0,
  "metadata": {
    "colab": {
      "provenance": []
    },
    "kernelspec": {
      "name": "python3",
      "display_name": "Python 3"
    },
    "language_info": {
      "name": "python"
    }
  },
  "cells": [
    {
      "cell_type": "code",
      "execution_count": 5,
      "metadata": {
        "colab": {
          "base_uri": "https://localhost:8080/"
        },
        "id": "f5ozkUCeRVVO",
        "outputId": "0e943473-f481-41cd-f769-0ba7586f988f"
      },
      "outputs": [
        {
          "output_type": "stream",
          "name": "stdout",
          "text": [
            "Requirement already satisfied: faiss-cpu in /usr/local/lib/python3.11/dist-packages (1.10.0)\n",
            "Requirement already satisfied: numpy<3.0,>=1.25.0 in /usr/local/lib/python3.11/dist-packages (from faiss-cpu) (2.0.2)\n",
            "Requirement already satisfied: packaging in /usr/local/lib/python3.11/dist-packages (from faiss-cpu) (24.2)\n"
          ]
        }
      ],
      "source": [
        "!pip install faiss-cpu\n"
      ]
    },
    {
      "cell_type": "code",
      "source": [
        "import pandas as pd\n",
        "import numpy as np\n",
        "from sentence_transformers import SentenceTransformer\n",
        "import faiss\n",
        "\n",
        "# Step 1: Load the Dataset\n",
        "# Ensure shl_assessments.csv is in your Colab working directory.\n",
        "df = pd.read_csv(\"/content/shl_assessments.csv\")\n",
        "\n",
        "# Step 2: Combine relevant text fields into one string per assessment.\n",
        "def combine_text(row):\n",
        "    parts = []\n",
        "    if pd.notna(row.get(\"Assessment Name\", None)):\n",
        "        parts.append(str(row[\"Assessment Name\"]))\n",
        "    if pd.notna(row.get(\"Description\", \"\")):\n",
        "        parts.append(str(row[\"Description\"]))\n",
        "    if pd.notna(row.get(\"Job Levels\", \"\")):\n",
        "        parts.append(str(row[\"Job Levels\"]))\n",
        "    if pd.notna(row.get(\"Test Type\", \"\")):\n",
        "        parts.append(str(row[\"Test Type\"]))\n",
        "    return \" \".join(parts)\n",
        "\n",
        "df[\"combined_text\"] = df.apply(combine_text, axis=1)\n",
        "\n",
        "# Step 3: Generate Embeddings using Sentence Transformers\n",
        "model_name = \"all-MiniLM-L6-v2\"  # Efficient and effective for semantic similarity\n",
        "model = SentenceTransformer(model_name)\n",
        "\n",
        "# Encode the combined text for each assessment\n",
        "texts = df[\"combined_text\"].tolist()\n",
        "embeddings = model.encode(texts, convert_to_numpy=True)\n",
        "\n",
        "# Normalize embeddings for cosine similarity (L2 normalization)\n",
        "faiss.normalize_L2(embeddings)\n",
        "\n",
        "# Step 4: Build a FAISS Index for fast retrieval\n",
        "dimension = embeddings.shape[1]\n",
        "index = faiss.IndexFlatIP(dimension)  # Using inner product as cosine similarity after normalization\n",
        "index.add(embeddings)\n",
        "print(f\"Indexed {index.ntotal} assessments.\")\n",
        "\n",
        "# Step 5: Define a function for query-based search\n",
        "def search_assessments(query, top_k=10):\n",
        "    # Encode the query into the same embedding space\n",
        "    query_embedding = model.encode([query], convert_to_numpy=True)\n",
        "    faiss.normalize_L2(query_embedding)\n",
        "\n",
        "\n",
        "    # Search the FAISS index\n",
        "    distances, indices = index.search(query_embedding, top_k)\n",
        "\n",
        "    # Retrieve corresponding assessments from the DataFrame\n",
        "    results = df.iloc[indices[0]].copy()\n",
        "    results[\"similarity\"] = distances[0]\n",
        "    return results\n",
        "\n",
        "# Step 6: Run an example query and print the results\n",
        "query = \"Looking to hire mid-level professionals who are proficient in Python, SQL and Java Script. Need an assessment package that can test all skills with max duration of 30 minutes\"\n",
        "results = search_assessments(query, top_k=10)\n",
        "print(\"Top Recommendations:\")\n",
        "print(results[[\"Assessment Name\", \"similarity\"]])\n"
      ],
      "metadata": {
        "id": "-j9yiojLRWuV",
        "colab": {
          "base_uri": "https://localhost:8080/"
        },
        "outputId": "7207f77a-d663-43d0-f267-fc94ebd77c3d"
      },
      "execution_count": 6,
      "outputs": [
        {
          "output_type": "stream",
          "name": "stdout",
          "text": [
            "Indexed 525 assessments.\n",
            "Top Recommendations:\n",
            "                                       Assessment Name  similarity\n",
            "268                                       Python (New)    0.562657\n",
            "157                         Job Control Language (New)    0.549362\n",
            "361         Virtual Assessment and Development Centers    0.516284\n",
            "382                       Verify - Deductive Reasoning    0.513048\n",
            "346                       Verify - Deductive Reasoning    0.513048\n",
            "514  Technology Professional 8.0 Job Focused Assess...    0.510788\n",
            "472                        Professional + 7.0 Solution    0.507895\n",
            "360              Verify Interactive Process Monitoring    0.504287\n",
            "387            Apprentice + 8.0 Job Focused Assessment    0.493981\n",
            "473                      Professional + 7.1 (Americas)    0.492788\n"
          ]
        }
      ]
    },
    {
      "cell_type": "code",
      "source": [
        " # Display recommended assessments along with their URLs\n",
        "pd.set_option('display.max_colwidth', None)\n",
        "if \"Detail URL\" in df.columns:\n",
        "    print(results[[\"Assessment Name\", \"Detail URL\", \"similarity\"]])\n",
        "elif \"Link\" in df.columns:\n",
        "    print(results[[\"Assessment Name\", \"Link\", \"similarity\"]])\n",
        "elif \"Assessment URL\" in df.columns:\n",
        "    print(results[[\"Assessment Name\", \"Assessment URL\", \"similarity\"]])\n",
        "else:\n",
        "    print(\"URL column not found in dataset. Please check the column name.\")\n"
      ],
      "metadata": {
        "id": "44_jspcCRjQ3",
        "colab": {
          "base_uri": "https://localhost:8080/"
        },
        "outputId": "0f521347-3e90-444b-ad1a-6a8241c99480"
      },
      "execution_count": 7,
      "outputs": [
        {
          "output_type": "stream",
          "name": "stdout",
          "text": [
            "                                        Assessment Name  \\\n",
            "268                                        Python (New)   \n",
            "157                          Job Control Language (New)   \n",
            "361          Virtual Assessment and Development Centers   \n",
            "382                        Verify - Deductive Reasoning   \n",
            "346                        Verify - Deductive Reasoning   \n",
            "514  Technology Professional 8.0 Job Focused Assessment   \n",
            "472                         Professional + 7.0 Solution   \n",
            "360               Verify Interactive Process Monitoring   \n",
            "387             Apprentice + 8.0 Job Focused Assessment   \n",
            "473                       Professional + 7.1 (Americas)   \n",
            "\n",
            "                                                                                                          Detail URL  \\\n",
            "268                                          https://www.shl.com/solutions/products/product-catalog/view/python-new/   \n",
            "157                            https://www.shl.com/solutions/products/product-catalog/view/job-control-language-new/   \n",
            "361          https://www.shl.com/solutions/products/product-catalog/view/virtual-assessment-and-development-centers/   \n",
            "382                          https://www.shl.com/solutions/products/product-catalog/view/verify-deductive-reasoning/   \n",
            "346                          https://www.shl.com/solutions/products/product-catalog/view/verify-deductive-reasoning/   \n",
            "514  https://www.shl.com/solutions/products/product-catalog/view/technology-professional-8-0-job-focused-assessment/   \n",
            "472                      https://www.shl.com/solutions/products/product-catalog/view/professional-7-0-solution-3958/   \n",
            "360               https://www.shl.com/solutions/products/product-catalog/view/verify-interactive-process-monitoring/   \n",
            "387          https://www.shl.com/solutions/products/product-catalog/view/apprentice-8-0-job-focused-assessment-4261/   \n",
            "473                     https://www.shl.com/solutions/products/product-catalog/view/professional-7-1-%28americas%29/   \n",
            "\n",
            "     similarity  \n",
            "268    0.562657  \n",
            "157    0.549362  \n",
            "361    0.516284  \n",
            "382    0.513048  \n",
            "346    0.513048  \n",
            "514    0.510788  \n",
            "472    0.507895  \n",
            "360    0.504287  \n",
            "387    0.493981  \n",
            "473    0.492788  \n"
          ]
        }
      ]
    },
    {
      "cell_type": "code",
      "source": [
        "!pip install Gradio"
      ],
      "metadata": {
        "id": "Bd6GUOTaRtak",
        "colab": {
          "base_uri": "https://localhost:8080/"
        },
        "outputId": "f59fee4d-42a1-4849-af40-407aed80e054"
      },
      "execution_count": 8,
      "outputs": [
        {
          "output_type": "stream",
          "name": "stdout",
          "text": [
            "Collecting Gradio\n",
            "  Downloading gradio-5.24.0-py3-none-any.whl.metadata (16 kB)\n",
            "Collecting aiofiles<25.0,>=22.0 (from Gradio)\n",
            "  Downloading aiofiles-24.1.0-py3-none-any.whl.metadata (10 kB)\n",
            "Requirement already satisfied: anyio<5.0,>=3.0 in /usr/local/lib/python3.11/dist-packages (from Gradio) (4.9.0)\n",
            "Collecting fastapi<1.0,>=0.115.2 (from Gradio)\n",
            "  Downloading fastapi-0.115.12-py3-none-any.whl.metadata (27 kB)\n",
            "Collecting ffmpy (from Gradio)\n",
            "  Downloading ffmpy-0.5.0-py3-none-any.whl.metadata (3.0 kB)\n",
            "Collecting gradio-client==1.8.0 (from Gradio)\n",
            "  Downloading gradio_client-1.8.0-py3-none-any.whl.metadata (7.1 kB)\n",
            "Collecting groovy~=0.1 (from Gradio)\n",
            "  Downloading groovy-0.1.2-py3-none-any.whl.metadata (6.1 kB)\n",
            "Requirement already satisfied: httpx>=0.24.1 in /usr/local/lib/python3.11/dist-packages (from Gradio) (0.28.1)\n",
            "Requirement already satisfied: huggingface-hub>=0.28.1 in /usr/local/lib/python3.11/dist-packages (from Gradio) (0.30.1)\n",
            "Requirement already satisfied: jinja2<4.0 in /usr/local/lib/python3.11/dist-packages (from Gradio) (3.1.6)\n",
            "Requirement already satisfied: markupsafe<4.0,>=2.0 in /usr/local/lib/python3.11/dist-packages (from Gradio) (3.0.2)\n",
            "Requirement already satisfied: numpy<3.0,>=1.0 in /usr/local/lib/python3.11/dist-packages (from Gradio) (2.0.2)\n",
            "Requirement already satisfied: orjson~=3.0 in /usr/local/lib/python3.11/dist-packages (from Gradio) (3.10.16)\n",
            "Requirement already satisfied: packaging in /usr/local/lib/python3.11/dist-packages (from Gradio) (24.2)\n",
            "Requirement already satisfied: pandas<3.0,>=1.0 in /usr/local/lib/python3.11/dist-packages (from Gradio) (2.2.2)\n",
            "Requirement already satisfied: pillow<12.0,>=8.0 in /usr/local/lib/python3.11/dist-packages (from Gradio) (11.1.0)\n",
            "Requirement already satisfied: pydantic<2.12,>=2.0 in /usr/local/lib/python3.11/dist-packages (from Gradio) (2.11.2)\n",
            "Collecting pydub (from Gradio)\n",
            "  Downloading pydub-0.25.1-py2.py3-none-any.whl.metadata (1.4 kB)\n",
            "Collecting python-multipart>=0.0.18 (from Gradio)\n",
            "  Downloading python_multipart-0.0.20-py3-none-any.whl.metadata (1.8 kB)\n",
            "Requirement already satisfied: pyyaml<7.0,>=5.0 in /usr/local/lib/python3.11/dist-packages (from Gradio) (6.0.2)\n",
            "Collecting ruff>=0.9.3 (from Gradio)\n",
            "  Downloading ruff-0.11.5-py3-none-manylinux_2_17_x86_64.manylinux2014_x86_64.whl.metadata (25 kB)\n",
            "Collecting safehttpx<0.2.0,>=0.1.6 (from Gradio)\n",
            "  Downloading safehttpx-0.1.6-py3-none-any.whl.metadata (4.2 kB)\n",
            "Collecting semantic-version~=2.0 (from Gradio)\n",
            "  Downloading semantic_version-2.10.0-py2.py3-none-any.whl.metadata (9.7 kB)\n",
            "Collecting starlette<1.0,>=0.40.0 (from Gradio)\n",
            "  Downloading starlette-0.46.1-py3-none-any.whl.metadata (6.2 kB)\n",
            "Collecting tomlkit<0.14.0,>=0.12.0 (from Gradio)\n",
            "  Downloading tomlkit-0.13.2-py3-none-any.whl.metadata (2.7 kB)\n",
            "Requirement already satisfied: typer<1.0,>=0.12 in /usr/local/lib/python3.11/dist-packages (from Gradio) (0.15.2)\n",
            "Requirement already satisfied: typing-extensions~=4.0 in /usr/local/lib/python3.11/dist-packages (from Gradio) (4.13.1)\n",
            "Collecting uvicorn>=0.14.0 (from Gradio)\n",
            "  Downloading uvicorn-0.34.0-py3-none-any.whl.metadata (6.5 kB)\n",
            "Requirement already satisfied: fsspec in /usr/local/lib/python3.11/dist-packages (from gradio-client==1.8.0->Gradio) (2025.3.2)\n",
            "Requirement already satisfied: websockets<16.0,>=10.0 in /usr/local/lib/python3.11/dist-packages (from gradio-client==1.8.0->Gradio) (15.0.1)\n",
            "Requirement already satisfied: idna>=2.8 in /usr/local/lib/python3.11/dist-packages (from anyio<5.0,>=3.0->Gradio) (3.10)\n",
            "Requirement already satisfied: sniffio>=1.1 in /usr/local/lib/python3.11/dist-packages (from anyio<5.0,>=3.0->Gradio) (1.3.1)\n",
            "Requirement already satisfied: certifi in /usr/local/lib/python3.11/dist-packages (from httpx>=0.24.1->Gradio) (2025.1.31)\n",
            "Requirement already satisfied: httpcore==1.* in /usr/local/lib/python3.11/dist-packages (from httpx>=0.24.1->Gradio) (1.0.7)\n",
            "Requirement already satisfied: h11<0.15,>=0.13 in /usr/local/lib/python3.11/dist-packages (from httpcore==1.*->httpx>=0.24.1->Gradio) (0.14.0)\n",
            "Requirement already satisfied: filelock in /usr/local/lib/python3.11/dist-packages (from huggingface-hub>=0.28.1->Gradio) (3.18.0)\n",
            "Requirement already satisfied: requests in /usr/local/lib/python3.11/dist-packages (from huggingface-hub>=0.28.1->Gradio) (2.32.3)\n",
            "Requirement already satisfied: tqdm>=4.42.1 in /usr/local/lib/python3.11/dist-packages (from huggingface-hub>=0.28.1->Gradio) (4.67.1)\n",
            "Requirement already satisfied: python-dateutil>=2.8.2 in /usr/local/lib/python3.11/dist-packages (from pandas<3.0,>=1.0->Gradio) (2.8.2)\n",
            "Requirement already satisfied: pytz>=2020.1 in /usr/local/lib/python3.11/dist-packages (from pandas<3.0,>=1.0->Gradio) (2025.2)\n",
            "Requirement already satisfied: tzdata>=2022.7 in /usr/local/lib/python3.11/dist-packages (from pandas<3.0,>=1.0->Gradio) (2025.2)\n",
            "Requirement already satisfied: annotated-types>=0.6.0 in /usr/local/lib/python3.11/dist-packages (from pydantic<2.12,>=2.0->Gradio) (0.7.0)\n",
            "Requirement already satisfied: pydantic-core==2.33.1 in /usr/local/lib/python3.11/dist-packages (from pydantic<2.12,>=2.0->Gradio) (2.33.1)\n",
            "Requirement already satisfied: typing-inspection>=0.4.0 in /usr/local/lib/python3.11/dist-packages (from pydantic<2.12,>=2.0->Gradio) (0.4.0)\n",
            "Requirement already satisfied: click>=8.0.0 in /usr/local/lib/python3.11/dist-packages (from typer<1.0,>=0.12->Gradio) (8.1.8)\n",
            "Requirement already satisfied: shellingham>=1.3.0 in /usr/local/lib/python3.11/dist-packages (from typer<1.0,>=0.12->Gradio) (1.5.4)\n",
            "Requirement already satisfied: rich>=10.11.0 in /usr/local/lib/python3.11/dist-packages (from typer<1.0,>=0.12->Gradio) (13.9.4)\n",
            "Requirement already satisfied: six>=1.5 in /usr/local/lib/python3.11/dist-packages (from python-dateutil>=2.8.2->pandas<3.0,>=1.0->Gradio) (1.17.0)\n",
            "Requirement already satisfied: markdown-it-py>=2.2.0 in /usr/local/lib/python3.11/dist-packages (from rich>=10.11.0->typer<1.0,>=0.12->Gradio) (3.0.0)\n",
            "Requirement already satisfied: pygments<3.0.0,>=2.13.0 in /usr/local/lib/python3.11/dist-packages (from rich>=10.11.0->typer<1.0,>=0.12->Gradio) (2.18.0)\n",
            "Requirement already satisfied: charset-normalizer<4,>=2 in /usr/local/lib/python3.11/dist-packages (from requests->huggingface-hub>=0.28.1->Gradio) (3.4.1)\n",
            "Requirement already satisfied: urllib3<3,>=1.21.1 in /usr/local/lib/python3.11/dist-packages (from requests->huggingface-hub>=0.28.1->Gradio) (2.3.0)\n",
            "Requirement already satisfied: mdurl~=0.1 in /usr/local/lib/python3.11/dist-packages (from markdown-it-py>=2.2.0->rich>=10.11.0->typer<1.0,>=0.12->Gradio) (0.1.2)\n",
            "Downloading gradio-5.24.0-py3-none-any.whl (46.9 MB)\n",
            "\u001b[2K   \u001b[90m━━━━━━━━━━━━━━━━━━━━━━━━━━━━━━━━━━━━━━━━\u001b[0m \u001b[32m46.9/46.9 MB\u001b[0m \u001b[31m12.3 MB/s\u001b[0m eta \u001b[36m0:00:00\u001b[0m\n",
            "\u001b[?25hDownloading gradio_client-1.8.0-py3-none-any.whl (322 kB)\n",
            "\u001b[2K   \u001b[90m━━━━━━━━━━━━━━━━━━━━━━━━━━━━━━━━━━━━━━━━\u001b[0m \u001b[32m322.2/322.2 kB\u001b[0m \u001b[31m18.2 MB/s\u001b[0m eta \u001b[36m0:00:00\u001b[0m\n",
            "\u001b[?25hDownloading aiofiles-24.1.0-py3-none-any.whl (15 kB)\n",
            "Downloading fastapi-0.115.12-py3-none-any.whl (95 kB)\n",
            "\u001b[2K   \u001b[90m━━━━━━━━━━━━━━━━━━━━━━━━━━━━━━━━━━━━━━━━\u001b[0m \u001b[32m95.2/95.2 kB\u001b[0m \u001b[31m7.0 MB/s\u001b[0m eta \u001b[36m0:00:00\u001b[0m\n",
            "\u001b[?25hDownloading groovy-0.1.2-py3-none-any.whl (14 kB)\n",
            "Downloading python_multipart-0.0.20-py3-none-any.whl (24 kB)\n",
            "Downloading ruff-0.11.5-py3-none-manylinux_2_17_x86_64.manylinux2014_x86_64.whl (11.4 MB)\n",
            "\u001b[2K   \u001b[90m━━━━━━━━━━━━━━━━━━━━━━━━━━━━━━━━━━━━━━━━\u001b[0m \u001b[32m11.4/11.4 MB\u001b[0m \u001b[31m26.2 MB/s\u001b[0m eta \u001b[36m0:00:00\u001b[0m\n",
            "\u001b[?25hDownloading safehttpx-0.1.6-py3-none-any.whl (8.7 kB)\n",
            "Downloading semantic_version-2.10.0-py2.py3-none-any.whl (15 kB)\n",
            "Downloading starlette-0.46.1-py3-none-any.whl (71 kB)\n",
            "\u001b[2K   \u001b[90m━━━━━━━━━━━━━━━━━━━━━━━━━━━━━━━━━━━━━━━━\u001b[0m \u001b[32m72.0/72.0 kB\u001b[0m \u001b[31m3.8 MB/s\u001b[0m eta \u001b[36m0:00:00\u001b[0m\n",
            "\u001b[?25hDownloading tomlkit-0.13.2-py3-none-any.whl (37 kB)\n",
            "Downloading uvicorn-0.34.0-py3-none-any.whl (62 kB)\n",
            "\u001b[2K   \u001b[90m━━━━━━━━━━━━━━━━━━━━━━━━━━━━━━━━━━━━━━━━\u001b[0m \u001b[32m62.3/62.3 kB\u001b[0m \u001b[31m1.9 MB/s\u001b[0m eta \u001b[36m0:00:00\u001b[0m\n",
            "\u001b[?25hDownloading ffmpy-0.5.0-py3-none-any.whl (6.0 kB)\n",
            "Downloading pydub-0.25.1-py2.py3-none-any.whl (32 kB)\n",
            "Installing collected packages: pydub, uvicorn, tomlkit, semantic-version, ruff, python-multipart, groovy, ffmpy, aiofiles, starlette, safehttpx, gradio-client, fastapi, Gradio\n",
            "Successfully installed Gradio-5.24.0 aiofiles-24.1.0 fastapi-0.115.12 ffmpy-0.5.0 gradio-client-1.8.0 groovy-0.1.2 pydub-0.25.1 python-multipart-0.0.20 ruff-0.11.5 safehttpx-0.1.6 semantic-version-2.10.0 starlette-0.46.1 tomlkit-0.13.2 uvicorn-0.34.0\n"
          ]
        }
      ]
    },
    {
      "cell_type": "code",
      "source": [
        "import gradio as gr\n",
        "\n",
        "# Gradio-compatible function\n",
        "def gradio_search(query, top_k):\n",
        "    if not query.strip():\n",
        "        return []\n",
        "\n",
        "    results = search_assessments(query, top_k=top_k)\n",
        "    display_data = []\n",
        "\n",
        "    for _, row in results.iterrows():\n",
        "        name = row[\"Assessment Name\"]\n",
        "        score = f\"{row['similarity']:.4f}\"\n",
        "        url = row.get(\"Detail URL\") or row.get(\"Link\") or row.get(\"Assessment URL\") or \"No URL found\"\n",
        "        remote=row.get(\"Adaptive/IRT\")\n",
        "        adaptive=row.get(\"Remote Testing\")\n",
        "        display_data.append([name, score, url,remote,adaptive])\n",
        "\n",
        "    return display_data\n",
        "\n",
        "\n",
        "gr.Interface(\n",
        "    fn=gradio_search,\n",
        "    inputs=[\n",
        "        gr.Textbox(lines=3, placeholder=\"e.g., Python, SQL, mid-level, 30 minutes\", label=\"Query\"),\n",
        "        gr.Slider(minimum=1, maximum=20, value=10, step=1, label=\"Top K Results\"),\n",
        "    ],\n",
        "    outputs=gr.Dataframe(\n",
        "        headers=[\n",
        "            \"Assessment Name\",\n",
        "            \"Similarity Score\",\n",
        "            \"URL\",\n",
        "            \"Remote Testing\",\n",
        "            \"Adaptive/IRT\"\n",
        "        ],\n",
        "        label=\"Top Recommendations\"\n",
        "    ),\n",
        "    title=\"🔍 SHL Assessment Recommendation Tool\",\n",
        "    description=\"Enter your hiring needs and get smart assessment recommendations.\",\n",
        ").launch(share=True)"
      ],
      "metadata": {
        "id": "cGsgsM_WRnhs",
        "colab": {
          "base_uri": "https://localhost:8080/",
          "height": 611
        },
        "outputId": "e1b4e8b8-5bc7-43cc-d3b8-56d52d23de81"
      },
      "execution_count": 9,
      "outputs": [
        {
          "output_type": "stream",
          "name": "stdout",
          "text": [
            "Colab notebook detected. To show errors in colab notebook, set debug=True in launch()\n",
            "* Running on public URL: https://92297dcc00af36d7a4.gradio.live\n",
            "\n",
            "This share link expires in 72 hours. For free permanent hosting and GPU upgrades, run `gradio deploy` from the terminal in the working directory to deploy to Hugging Face Spaces (https://huggingface.co/spaces)\n"
          ]
        },
        {
          "output_type": "display_data",
          "data": {
            "text/plain": [
              "<IPython.core.display.HTML object>"
            ],
            "text/html": [
              "<div><iframe src=\"https://92297dcc00af36d7a4.gradio.live\" width=\"100%\" height=\"500\" allow=\"autoplay; camera; microphone; clipboard-read; clipboard-write;\" frameborder=\"0\" allowfullscreen></iframe></div>"
            ]
          },
          "metadata": {}
        },
        {
          "output_type": "execute_result",
          "data": {
            "text/plain": []
          },
          "metadata": {},
          "execution_count": 9
        }
      ]
    },
    {
      "cell_type": "code",
      "source": [
        "!pip install fastapi uvicorn nest-asyncio\n",
        "\n",
        "import nest_asyncio\n",
        "import uvicorn\n",
        "from fastapi import FastAPI, Query\n",
        "from pydantic import BaseModel\n",
        "from typing import List\n",
        "\n",
        "# Allow FastAPI to run inside Jupyter/Colab\n",
        "nest_asyncio.apply()\n",
        "\n",
        "app = FastAPI(title=\"SHL Assessment Recommender API\")\n",
        "\n",
        "class QueryRequest(BaseModel):\n",
        "    query: str\n",
        "    top_k: int = 10\n",
        "\n",
        "@app.post(\"/recommend\")\n",
        "def recommend_assessments(req: QueryRequest):\n",
        "    query = req.query\n",
        "    top_k = req.top_k\n",
        "\n",
        "    if not query.strip():\n",
        "        return {\"error\": \"Empty query\"}\n",
        "\n",
        "    results = search_assessments(query, top_k)\n",
        "    response = []\n",
        "    for _, row in results.iterrows():\n",
        "        item = {\n",
        "            \"Assessment Name\": row[\"Assessment Name\"],\n",
        "            \"Similarity Score\": float(f\"{row['similarity']:.4f}\"),\n",
        "            \"URL\": row.get(\"Detail URL\") or row.get(\"Link\") or row.get(\"Assessment URL\") or \"N/A\"\n",
        "        }\n",
        "        response.append(item)\n",
        "\n",
        "    return {\"results\": response}\n",
        "\n",
        "# Run the API (hosted locally inside Colab)\n",
        "uvicorn.run(app, host=\"0.0.0.0\", port=8000)\n"
      ],
      "metadata": {
        "id": "6XeFpUykRq7H",
        "colab": {
          "base_uri": "https://localhost:8080/"
        },
        "outputId": "c14d0b2f-5d6a-4c1b-d2d4-d4f8bb8f8114"
      },
      "execution_count": null,
      "outputs": [
        {
          "output_type": "stream",
          "name": "stdout",
          "text": [
            "Requirement already satisfied: fastapi in /usr/local/lib/python3.11/dist-packages (0.115.12)\n",
            "Requirement already satisfied: uvicorn in /usr/local/lib/python3.11/dist-packages (0.34.0)\n",
            "Requirement already satisfied: nest-asyncio in /usr/local/lib/python3.11/dist-packages (1.6.0)\n",
            "Requirement already satisfied: starlette<0.47.0,>=0.40.0 in /usr/local/lib/python3.11/dist-packages (from fastapi) (0.46.1)\n",
            "Requirement already satisfied: pydantic!=1.8,!=1.8.1,!=2.0.0,!=2.0.1,!=2.1.0,<3.0.0,>=1.7.4 in /usr/local/lib/python3.11/dist-packages (from fastapi) (2.11.2)\n",
            "Requirement already satisfied: typing-extensions>=4.8.0 in /usr/local/lib/python3.11/dist-packages (from fastapi) (4.13.1)\n",
            "Requirement already satisfied: click>=7.0 in /usr/local/lib/python3.11/dist-packages (from uvicorn) (8.1.8)\n",
            "Requirement already satisfied: h11>=0.8 in /usr/local/lib/python3.11/dist-packages (from uvicorn) (0.14.0)\n",
            "Requirement already satisfied: annotated-types>=0.6.0 in /usr/local/lib/python3.11/dist-packages (from pydantic!=1.8,!=1.8.1,!=2.0.0,!=2.0.1,!=2.1.0,<3.0.0,>=1.7.4->fastapi) (0.7.0)\n",
            "Requirement already satisfied: pydantic-core==2.33.1 in /usr/local/lib/python3.11/dist-packages (from pydantic!=1.8,!=1.8.1,!=2.0.0,!=2.0.1,!=2.1.0,<3.0.0,>=1.7.4->fastapi) (2.33.1)\n",
            "Requirement already satisfied: typing-inspection>=0.4.0 in /usr/local/lib/python3.11/dist-packages (from pydantic!=1.8,!=1.8.1,!=2.0.0,!=2.0.1,!=2.1.0,<3.0.0,>=1.7.4->fastapi) (0.4.0)\n",
            "Requirement already satisfied: anyio<5,>=3.6.2 in /usr/local/lib/python3.11/dist-packages (from starlette<0.47.0,>=0.40.0->fastapi) (4.9.0)\n",
            "Requirement already satisfied: idna>=2.8 in /usr/local/lib/python3.11/dist-packages (from anyio<5,>=3.6.2->starlette<0.47.0,>=0.40.0->fastapi) (3.10)\n",
            "Requirement already satisfied: sniffio>=1.1 in /usr/local/lib/python3.11/dist-packages (from anyio<5,>=3.6.2->starlette<0.47.0,>=0.40.0->fastapi) (1.3.1)\n"
          ]
        },
        {
          "output_type": "stream",
          "name": "stderr",
          "text": [
            "INFO:     Started server process [441]\n",
            "INFO:     Waiting for application startup.\n",
            "INFO:     Application startup complete.\n",
            "INFO:     Uvicorn running on http://0.0.0.0:8000 (Press CTRL+C to quit)\n"
          ]
        },
        {
          "output_type": "stream",
          "name": "stdout",
          "text": [
            "INFO:     172.31.62.201:0 - \"GET /theme.css?v=63194d3741d384f9f85db890247b6c0ef9e7abac0f297f40a15c59fe4baba916 HTTP/1.1\" 200 OK\n",
            "INFO:     172.31.62.201:0 - \"GET /static/fonts/IBMPlexMono/IBMPlexMono-Regular.woff2 HTTP/1.1\" 200 OK\n",
            "INFO:     172.31.62.201:0 - \"GET /static/fonts/ui-sans-serif/ui-sans-serif-Regular.woff2 HTTP/1.1\" 404 Not Found\n",
            "INFO:     172.31.62.201:0 - \"GET /static/fonts/IBMPlexMono/IBMPlexMono-Bold.woff2 HTTP/1.1\" 200 OK\n",
            "INFO:     172.31.62.201:0 - \"GET /static/fonts/ui-sans-serif/ui-sans-serif-Bold.woff2 HTTP/1.1\" 404 Not Found\n",
            "INFO:     172.31.62.201:0 - \"GET /static/fonts/system-ui/system-ui-Bold.woff2 HTTP/1.1\" 404 Not Found\n",
            "INFO:     172.31.62.201:0 - \"GET /static/fonts/system-ui/system-ui-Regular.woff2 HTTP/1.1\" 404 Not Found\n",
            "INFO:     172.31.37.205:0 - \"POST /gradio_api/queue/join HTTP/1.1\" 200 OK\n",
            "INFO:     172.31.37.205:0 - \"GET /gradio_api/queue/data?session_hash=dxb0etlktw9 HTTP/1.1\" 200 OK\n"
          ]
        }
      ]
    }
  ]
}